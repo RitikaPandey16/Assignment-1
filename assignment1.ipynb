{
 "cells": [
  {
   "cell_type": "code",
   "execution_count": 2,
   "id": "f1cdd64e-d584-432d-af62-74fa4402e973",
   "metadata": {},
   "outputs": [
    {
     "name": "stdout",
     "output_type": "stream",
     "text": [
      "The square of 1 is 1\n",
      "The square of 2 is 4\n",
      "The square of 3 is 9\n",
      "The square of 4 is 16\n",
      "The square of 5 is 25\n"
     ]
    }
   ],
   "source": [
    "#Q1 Explain with an example each when to use a for loop and a while loop.\n",
    "#A for loop is typically used when the number of iterations is known in advance or when iterating over a sequence\n",
    "numbers = [1, 2, 3, 4, 5]\n",
    "\n",
    "# Using a for loop\n",
    "for num in numbers:\n",
    "    print(f\"The square of {num} is {num**2}\")\n"
   ]
  },
  {
   "cell_type": "code",
   "execution_count": 4,
   "id": "25bbf8fc-47c5-44f3-a67e-09f23d8c18d7",
   "metadata": {},
   "outputs": [
    {
     "name": "stdout",
     "output_type": "stream",
     "text": [
      "Current number: 1\n",
      "Current number: 2\n",
      "Current number: 4\n",
      "Current number: 8\n",
      "Current number: 16\n",
      "Current number: 32\n",
      "Current number: 64\n"
     ]
    }
   ],
   "source": [
    "#A while loop is used when the number of iterations is not known in advance and depends on a condition.\n",
    "num = 1\n",
    "\n",
    "# Using a while loop\n",
    "while num <= 100:\n",
    "    print(f\"Current number: {num}\")\n",
    "    num *= 2\n"
   ]
  },
  {
   "cell_type": "code",
   "execution_count": 8,
   "id": "abd739e3-5dd8-4238-a048-ef138cb27970",
   "metadata": {},
   "outputs": [
    {
     "name": "stdout",
     "output_type": "stream",
     "text": [
      "Sum of the first 10 natural numbers (using for loop): 55\n",
      "Product of the first 10 natural numbers (using for loop): 3628800\n"
     ]
    }
   ],
   "source": [
    "#Q2 Write a python program to print the sum and product of the first 10 natural numbers using for\n",
    "#and while loop.\n",
    "# Using a for loop\n",
    "n = 10\n",
    "sum_natural = 0\n",
    "product_natural = 1\n",
    "\n",
    "for i in range(1, n + 1):\n",
    "    sum_natural += i\n",
    "    product_natural *= i\n",
    "\n",
    "print(f\"Sum of the first {n} natural numbers (using for loop): {sum_natural}\")\n",
    "print(f\"Product of the first {n} natural numbers (using for loop): {product_natural}\")\n"
   ]
  },
  {
   "cell_type": "code",
   "execution_count": 10,
   "id": "5d55c765-41fb-47ed-be66-94499ce607d8",
   "metadata": {},
   "outputs": [
    {
     "name": "stdin",
     "output_type": "stream",
     "text": [
      "Enter the units of electricity consumed in a month:  310\n"
     ]
    },
    {
     "name": "stdout",
     "output_type": "stream",
     "text": [
      "The total electricity bill is: Rs. 2250.0\n"
     ]
    }
   ],
   "source": [
    "#Q3 Create a python program to compute the electricity bill for a household.\n",
    "#The per-unit charges in rupees are as follows: For the first 100 units, the user will be charged Rs. 4.5 per\n",
    "#unit, for the next 100 units, the user will be charged Rs. 6 per unit, and for the next 100 units, the user will\n",
    "#be charged Rs. 10 per unit, After 300 units and above the user will be charged Rs. 20 per unit.\n",
    "#You are required to take the units of electricity consumed in a month from the user as input.\n",
    "#Your program must pass this test case: when the unit of electricity consumed by the user in a month is\n",
    "#310, the total electricity bill should be 2250.\n",
    "# Function to calculate electricity bill\n",
    "def calculate_bill(units):\n",
    "    bill = 0\n",
    "\n",
    "    if units <= 100:\n",
    "        bill = units * 4.5\n",
    "    elif units <= 200:\n",
    "        bill = (100 * 4.5) + ((units - 100) * 6)\n",
    "    elif units <= 300:\n",
    "        bill = (100 * 4.5) + (100 * 6) + ((units - 200) * 10)\n",
    "    else:\n",
    "        bill = (100 * 4.5) + (100 * 6) + (100 * 10) + ((units - 300) * 20)\n",
    "\n",
    "    return bill\n",
    "\n",
    "# Input from user\n",
    "units = int(input(\"Enter the units of electricity consumed in a month: \"))\n",
    "\n",
    "# Calculate and display the bill\n",
    "total_bill = calculate_bill(units)\n",
    "print(f\"The total electricity bill is: Rs. {total_bill}\")\n"
   ]
  },
  {
   "cell_type": "code",
   "execution_count": 12,
   "id": "024bb215-f3e8-4bc5-9228-e08371b9991c",
   "metadata": {},
   "outputs": [
    {
     "name": "stdout",
     "output_type": "stream",
     "text": [
      "Numbers whose cubes are divisible by 4 or 5 (using for loop):\n",
      "[2, 4, 5, 6, 8, 10, 12, 14, 15, 16, 18, 20, 22, 24, 25, 26, 28, 30, 32, 34, 35, 36, 38, 40, 42, 44, 45, 46, 48, 50, 52, 54, 55, 56, 58, 60, 62, 64, 65, 66, 68, 70, 72, 74, 75, 76, 78, 80, 82, 84, 85, 86, 88, 90, 92, 94, 95, 96, 98, 100]\n"
     ]
    }
   ],
   "source": [
    "#Q4 Create a list of numbers from 1 to 100. Use for loop and while loop to calculate the cube of each\n",
    "#number and if the cube of that number is divisible by 4 or 5 then append that number in a list and print\n",
    "#that list.\n",
    "# Create a list of numbers from 1 to 100\n",
    "numbers = list(range(1, 101))\n",
    "result_for = []\n",
    "\n",
    "# Calculate the cube and check divisibility\n",
    "for num in numbers:\n",
    "    cube = num ** 3\n",
    "    if cube % 4 == 0 or cube % 5 == 0:\n",
    "        result_for.append(num)\n",
    "\n",
    "print(\"Numbers whose cubes are divisible by 4 or 5 (using for loop):\")\n",
    "print(result_for)\n"
   ]
  },
  {
   "cell_type": "code",
   "execution_count": 14,
   "id": "e3eec0a3-d3ff-40ec-ae7c-6ed5b3862d7d",
   "metadata": {},
   "outputs": [
    {
     "name": "stdout",
     "output_type": "stream",
     "text": [
      "Vowels in the string: ['I', 'a', 'o', 'e', 'o', 'e', 'a', 'a', 'a', 'i', 'e', 'i']\n",
      "Total number of vowels: 12\n"
     ]
    }
   ],
   "source": [
    "#Q5 Write a program to filter count vowels in the below-given string.\n",
    "#string = \"I want to become a data scientist\"\n",
    "# Input string\n",
    "string = \"I want to become a data scientist\"\n",
    "\n",
    "# Vowels set\n",
    "vowels = \"aeiouAEIOU\"\n",
    "\n",
    "# Filter vowels\n",
    "vowel_list = [char for char in string if char in vowels]\n",
    "\n",
    "# Count vowels\n",
    "vowel_count = len(vowel_list)\n",
    "\n",
    "# Print the results\n",
    "print(\"Vowels in the string:\", vowel_list)\n",
    "print(\"Total number of vowels:\", vowel_count)\n"
   ]
  },
  {
   "cell_type": "code",
   "execution_count": null,
   "id": "60cd5fe3-0be4-41b8-83c2-396fba185712",
   "metadata": {},
   "outputs": [],
   "source": []
  }
 ],
 "metadata": {
  "kernelspec": {
   "display_name": "Python 3 (ipykernel)",
   "language": "python",
   "name": "python3"
  },
  "language_info": {
   "codemirror_mode": {
    "name": "ipython",
    "version": 3
   },
   "file_extension": ".py",
   "mimetype": "text/x-python",
   "name": "python",
   "nbconvert_exporter": "python",
   "pygments_lexer": "ipython3",
   "version": "3.12.4"
  }
 },
 "nbformat": 4,
 "nbformat_minor": 5
}
